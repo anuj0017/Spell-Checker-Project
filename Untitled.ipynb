{
 "cells": [
  {
   "cell_type": "code",
   "execution_count": 3,
   "id": "9c7f5721",
   "metadata": {},
   "outputs": [],
   "source": [
    "import re"
   ]
  },
  {
   "cell_type": "markdown",
   "id": "00d2b1eb",
   "metadata": {},
   "source": [
    "## Finding Unique Words"
   ]
  },
  {
   "cell_type": "code",
   "execution_count": 16,
   "id": "e21e7db7",
   "metadata": {},
   "outputs": [
    {
     "name": "stdout",
     "output_type": "stream",
     "text": [
      "1115585\n",
      "32198\n"
     ]
    }
   ],
   "source": [
    "with open('big.txt','r') as fd:\n",
    "    lines = fd.readlines()\n",
    "    words = []\n",
    "    for line in lines:\n",
    "        words+= re.findall('\\w+',line.lower())\n",
    "        \n",
    "print(len(words))\n",
    "vocab = list(set(words))\n",
    "print(len(word))"
   ]
  },
  {
   "cell_type": "code",
   "execution_count": 17,
   "id": "edac84a4",
   "metadata": {},
   "outputs": [
    {
     "data": {
      "text/plain": [
       "6488666"
      ]
     },
     "execution_count": 17,
     "metadata": {},
     "output_type": "execute_result"
    }
   ],
   "source": [
    "len(txt)"
   ]
  },
  {
   "cell_type": "markdown",
   "id": "81ae603b",
   "metadata": {},
   "source": [
    "## Finding the probability distribution"
   ]
  },
  {
   "cell_type": "code",
   "execution_count": 18,
   "id": "5a7b841e",
   "metadata": {},
   "outputs": [
    {
     "data": {
      "text/plain": [
       "0.07154004401278254"
      ]
     },
     "execution_count": 18,
     "metadata": {},
     "output_type": "execute_result"
    }
   ],
   "source": [
    "words.count('the')/len(words)"
   ]
  },
  {
   "cell_type": "code",
   "execution_count": 19,
   "id": "ca3db18b",
   "metadata": {},
   "outputs": [],
   "source": [
    "word_probabilities = {}\n",
    "\n",
    "for word in vocab:\n",
    "    word_probabilities[word] = float(words.count(word)/len(words))"
   ]
  },
  {
   "cell_type": "code",
   "execution_count": 20,
   "id": "4c251ce5",
   "metadata": {},
   "outputs": [
    {
     "data": {
      "text/plain": [
       "32198"
      ]
     },
     "execution_count": 20,
     "metadata": {},
     "output_type": "execute_result"
    }
   ],
   "source": [
    "len(word_probabilities)"
   ]
  },
  {
   "cell_type": "markdown",
   "id": "4c6d9bd9",
   "metadata": {},
   "source": [
    "## Text Preprocessing"
   ]
  },
  {
   "cell_type": "code",
   "execution_count": 27,
   "id": "9b5dec0b",
   "metadata": {},
   "outputs": [
    {
     "data": {
      "text/plain": [
       "[('', 'ashish'),\n",
       " ('a', 'shish'),\n",
       " ('as', 'hish'),\n",
       " ('ash', 'ish'),\n",
       " ('ashi', 'sh'),\n",
       " ('ashis', 'h'),\n",
       " ('ashish', '')]"
      ]
     },
     "execution_count": 27,
     "metadata": {},
     "output_type": "execute_result"
    }
   ],
   "source": [
    "def split(word):\n",
    "#     w = 'loave'\n",
    "    parts = []\n",
    "\n",
    "    for i in range(len(word)+1):\n",
    "        parts += [( word[:i],word[i:])]\n",
    "\n",
    "    return parts\n",
    "\n",
    "split('ashish')"
   ]
  },
  {
   "cell_type": "code",
   "execution_count": null,
   "id": "fd318f75",
   "metadata": {},
   "outputs": [],
   "source": []
  }
 ],
 "metadata": {
  "kernelspec": {
   "display_name": "Python 3 (ipykernel)",
   "language": "python",
   "name": "python3"
  },
  "language_info": {
   "codemirror_mode": {
    "name": "ipython",
    "version": 3
   },
   "file_extension": ".py",
   "mimetype": "text/x-python",
   "name": "python",
   "nbconvert_exporter": "python",
   "pygments_lexer": "ipython3",
   "version": "3.11.5"
  }
 },
 "nbformat": 4,
 "nbformat_minor": 5
}
